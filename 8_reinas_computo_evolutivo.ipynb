{
  "nbformat": 4,
  "nbformat_minor": 0,
  "metadata": {
    "colab": {
      "name": "8 reinas computo evolutivo",
      "provenance": [],
      "authorship_tag": "ABX9TyNrs8FOxDAhnCfrUUn39b6U",
      "include_colab_link": true
    },
    "kernelspec": {
      "name": "python3",
      "display_name": "Python 3"
    },
    "language_info": {
      "name": "python"
    }
  },
  "cells": [
    {
      "cell_type": "markdown",
      "metadata": {
        "id": "view-in-github",
        "colab_type": "text"
      },
      "source": [
        "<a href=\"https://colab.research.google.com/github/EisaacJC/ComputoEvolutivo/blob/main/8_reinas_computo_evolutivo.ipynb\" target=\"_parent\"><img src=\"https://colab.research.google.com/assets/colab-badge.svg\" alt=\"Open In Colab\"/></a>"
      ]
    },
    {
      "cell_type": "markdown",
      "source": [
        "# Computo Evolutivo\n",
        "### Alumno: E. Isaac Juárez Caballero\n",
        "### Maestría en Inteligencia Artificial"
      ],
      "metadata": {
        "id": "FSQpHugDnZGX"
      }
    },
    {
      "cell_type": "markdown",
      "source": [
        "# Inicialización de librerías"
      ],
      "metadata": {
        "id": "QgJJ__hmnjaU"
      }
    },
    {
      "cell_type": "code",
      "execution_count": 1,
      "metadata": {
        "id": "b_enojfSztuQ"
      },
      "outputs": [],
      "source": [
        "import numpy as np\n",
        "import seaborn as sns\n",
        "from numpy.random import default_rng\n",
        "import random\n",
        "import matplotlib.pyplot as plt\n",
        "from sortedcontainers import SortedKeyList\n",
        "import itertools\n",
        "import pandas as pd"
      ]
    },
    {
      "cell_type": "markdown",
      "source": [
        "# Creación de tableros"
      ],
      "metadata": {
        "id": "YunrAyCcnm-4"
      }
    },
    {
      "cell_type": "code",
      "source": [
        "def tableros_c(dim, population):\n",
        "    \"\"\"\n",
        "    Se crean n=population tableros de dimensión dim\n",
        "    todos generados a partir de numeros aleatorios\n",
        "    \"\"\"\n",
        "    tableros=[]\n",
        "    for i in range(population):\n",
        "        tableros.append(random.sample(range(0,dim),dim))\n",
        "    return tableros"
      ],
      "metadata": {
        "id": "MQmbZRqE0Rik"
      },
      "execution_count": 2,
      "outputs": []
    },
    {
      "cell_type": "markdown",
      "source": [
        "# Reconstrucción de tableros"
      ],
      "metadata": {
        "id": "_yldmcWqnp3P"
      }
    },
    {
      "cell_type": "code",
      "source": [
        "def reconstruir(tablero):\n",
        "    \"\"\"\n",
        "    La función reconstruir tablero es una función que pide un tablero en la \n",
        "    representación de tupla y retorna una matriz de n*n\n",
        "    esta representación es útil para realizar las gráficas.\n",
        "    \"\"\"\n",
        "    reconstruido=np.zeros((len(tablero),len(tablero)))\n",
        "    for i in range(len(tablero)):\n",
        "        reconstruido[i][tablero[i]]=1\n",
        "    return reconstruido"
      ],
      "metadata": {
        "id": "UmOKfijP29EH"
      },
      "execution_count": 3,
      "outputs": []
    },
    {
      "cell_type": "markdown",
      "source": [
        "# Definición de la función de utilidad"
      ],
      "metadata": {
        "id": "ygCm9nkNnsB2"
      }
    },
    {
      "cell_type": "code",
      "source": [
        "def utility_f(tablero):\n",
        "    \"\"\"Recibe como entrada un tablero en su forma comprimida\n",
        "    y retorna la utilidad del tablero, el funcionamiento del mismo se comporta \n",
        "    según una función por maximizar, es decir queremos encontrar los valores de la función\n",
        "    \"\"\"\n",
        "    utilidad=0\n",
        "    for i in range(0,len(tablero)):\n",
        "        for j in range(0,len(tablero)):\n",
        "            if (j==i):\n",
        "                continue\n",
        "            if(tablero[j]==tablero[i]):\n",
        "                continue\n",
        "            if (j+tablero[j]==i+tablero[i]):\n",
        "                continue\n",
        "            if (j-tablero[j]==i-tablero[i]):\n",
        "                continue\n",
        "            utilidad=utilidad+1\n",
        "    return utilidad/2"
      ],
      "metadata": {
        "id": "BHQu0qGy4ENW"
      },
      "execution_count": 4,
      "outputs": []
    },
    {
      "cell_type": "markdown",
      "source": [
        "# Definición del orden de los tableros según su función de utilidad"
      ],
      "metadata": {
        "id": "ira18c20nvls"
      }
    },
    {
      "cell_type": "code",
      "source": [
        "def orden(tableros):\n",
        "    \"\"\"\n",
        "    Retorna los tableros en orden según utilidad como primer elemento, como segundo la lista de utilidad\n",
        "    \"\"\"\n",
        "    scores=[]\n",
        "    for tablero in tableros:\n",
        "        scores.append([tablero,28-utility_f(tablero)])\n",
        "    ordenado = sorted(scores, key=lambda x: x[1],reverse=True)\n",
        "    return ordenado"
      ],
      "metadata": {
        "id": "50JbPX3q75Hm"
      },
      "execution_count": 5,
      "outputs": []
    },
    {
      "cell_type": "markdown",
      "source": [
        "# Definición de la cruza entre dos padres"
      ],
      "metadata": {
        "id": "FdR9iOd8n0SZ"
      }
    },
    {
      "cell_type": "code",
      "source": [
        "def cruza(padre1,padre2):\n",
        "    \"\"\"\n",
        "    Si el input proviene de una lista de valores ordenados de tableros con su función de utilidad\n",
        "    entonces la entrada de los padres será ordenado[i][0]\n",
        "    \"\"\"\n",
        "    n=random.randint(1,7)\n",
        "    hijo1=padre1[:n]+padre2[n:]\n",
        "    hijo2=padre2[:n]+padre1[n:]\n",
        "    l=[hijo1, hijo2]\n",
        "    return l"
      ],
      "metadata": {
        "id": "fA_AIylgCr0y"
      },
      "execution_count": 6,
      "outputs": []
    },
    {
      "cell_type": "markdown",
      "source": [
        "# Definición de la función de mutación"
      ],
      "metadata": {
        "id": "txUZXc2xn42x"
      }
    },
    {
      "cell_type": "code",
      "source": [
        "def mutacion(tablero, probmut):\n",
        "    tab=tablero\n",
        "    n=random.random()\n",
        "    j=random.randint(0,len(tablero)-1)\n",
        "    if n<probmut:\n",
        "        a=random.randint(0,len(tablero)-1)\n",
        "        tab[j]=a\n",
        "    return tab    "
      ],
      "metadata": {
        "id": "zqDRUFckznDQ"
      },
      "execution_count": 7,
      "outputs": []
    },
    {
      "cell_type": "markdown",
      "source": [
        "# Función que ejecuta al algoritmo evolutivo"
      ],
      "metadata": {
        "id": "02646Mzkn9YL"
      }
    },
    {
      "cell_type": "code",
      "source": [
        "def evolutivo(n,dim,population, pm):\n",
        "    \"\"\"\n",
        "    n numero de generaciones\n",
        "    dim dimension del tablero\n",
        "    population poblacion inicial\n",
        "    pm probability of mutation\n",
        "    \"\"\"\n",
        "    pop=tableros_c(dim,population)\n",
        "    pop2=pop\n",
        "    generaciones=n\n",
        "    for i in range(generaciones):\n",
        "        pop3=[]\n",
        "        stablero=[]\n",
        "        if i==0:\n",
        "            #Si i es igual a cero la población es la población inicial\n",
        "            pop=pop2\n",
        "            #print(df1)\n",
        "        if i>=1:\n",
        "            #Si i es mayor que cero mi población serán los tableros más cool\n",
        "            pop=df1[\"tablero\"][:len(pop)]\n",
        "            stablero=[]\n",
        "        for tablero in pop:\n",
        "            #print(len(pop3))\n",
        "            pop3.append(mutacion(tablero, pm))\n",
        "        #Selecciono una muestra de un quinto de la población inicial\n",
        "        sample=random.sample(pop3,int(len(pop2)/5))\n",
        "        #ordeno por la puntuación los tableros de la población inicial\n",
        "        df = pd.DataFrame(orden(pop3), columns =['tablero', 'puntuacion'])\n",
        "        #Extraigo los tableros de la población inicial con mejor score\n",
        "        stablero=df[\"tablero\"][:len(pop2)]\n",
        "        #Realizo la cruza de los tableros, remplazando los peores\n",
        "        for j in range(len(pop2)):\n",
        "            stablero[-j],stablero[-j-1]=cruza(random.sample(sample,2)[0],random.sample(sample,2)[1])\n",
        "        #Una vez remplazados los peores tableros los vuelvo un df\n",
        "        #orden(stablero)\n",
        "        df1 = pd.DataFrame(orden(stablero), columns =['tablero', 'puntuacion'])\n",
        "        #df1.astype({\"tablero\": object, \"puntuacion\": float},copy=True)\n",
        "        #df1[\"puntuacion\"]=(1-df1[\"puntuacion\"]/len(pop))\n",
        "        #Ordeno los valores según su puntuación\n",
        "        df1=df1.sort_values(by=['puntuacion'],ascending=True)\n",
        "        df1=df1[:len(pop2)]\n",
        "        df1=df1.reset_index(drop=True)\n",
        "        #Extraigo la nueva población para la siguiente generación-\n",
        "        stablero2=df1[\"tablero\"][:len(pop2)]\n",
        "    return df1\n",
        "    "
      ],
      "metadata": {
        "id": "9rPfMXeMbMbc"
      },
      "execution_count": 8,
      "outputs": []
    },
    {
      "cell_type": "code",
      "source": [
        "def evolutivo2(n,dim,population, pm):\n",
        "    \"\"\"\n",
        "    n numero de generaciones\n",
        "    dim dimension del tablero\n",
        "    population poblacion inicial\n",
        "    pm probability of mutation\n",
        "    \"\"\"\n",
        "    medianscores=[]\n",
        "    pop=tableros_c(dim,population)\n",
        "    pop2=pop\n",
        "    generaciones=n\n",
        "    for i in range(generaciones):\n",
        "        pop3=[]\n",
        "        stablero=[]\n",
        "        if i==0:\n",
        "            #Si i es igual a cero la población es la población inicial\n",
        "            pop=pop2\n",
        "            #print(df1)\n",
        "        if i>=1:\n",
        "            #Si i es mayor que cero mi población serán los tableros más cool\n",
        "            pop=df1[\"tablero\"][:len(pop)]\n",
        "            stablero=[]\n",
        "        for tablero in pop:\n",
        "            #print(len(pop3))\n",
        "            pop3.append(mutacion(tablero, pm))\n",
        "        #Selecciono una muestra de un quinto de la población inicial\n",
        "        sample=random.sample(pop3,int(len(pop2)/5))\n",
        "        #ordeno por la puntuación los tableros de la población inicial\n",
        "        df = pd.DataFrame(orden(pop3), columns =['tablero', 'puntuacion'])\n",
        "        #Extraigo los tableros de la población inicial con mejor score\n",
        "        stablero=df[\"tablero\"][:len(pop2)]\n",
        "        #Realizo la cruza de los tableros, remplazando los peores\n",
        "        for j in range(len(pop2)):\n",
        "            stablero[-j],stablero[-j-1]=cruza(random.sample(sample,2)[0],random.sample(sample,2)[1])\n",
        "        #Una vez remplazados los peores tableros los vuelvo un df\n",
        "        #orden(stablero)\n",
        "        df1 = pd.DataFrame(orden(stablero), columns =['tablero', 'puntuacion'])\n",
        "        #df1.astype({\"tablero\": object, \"puntuacion\": float},copy=True)\n",
        "        #df1[\"puntuacion\"]=(1-df1[\"puntuacion\"]/len(pop))\n",
        "        #Ordeno los valores según su puntuación\n",
        "        df1=df1.sort_values(by=['puntuacion'],ascending=True)\n",
        "        df1=df1[:len(pop2)]\n",
        "        df1=df1.reset_index(drop=True)\n",
        "        medianscores.append([df1[\"puntuacion\"].mean(),df1[\"puntuacion\"].std(),i])\n",
        "        #Extraigo la nueva población para la siguiente generación-\n",
        "        stablero2=df1[\"tablero\"][:len(pop2)]\n",
        "    df2 = pd.DataFrame(medianscores, columns =['promedio',\"stdv\", 'generacion'])\n",
        "    return df1, df2\n",
        "    "
      ],
      "metadata": {
        "id": "BnCj_DO8tBjI"
      },
      "execution_count": 32,
      "outputs": []
    },
    {
      "cell_type": "markdown",
      "source": [
        "# Ejecución del código:"
      ],
      "metadata": {
        "id": "RjR4jCIQoF16"
      }
    },
    {
      "cell_type": "code",
      "source": [
        "ev=evolutivo(n=int(input(\"Cuántas generaciones se ejecutarán? \\n\")),\n",
        "                    dim=int(input(\"Introduce la dimensión del tablero \\n\")),\n",
        "                    population=int(input(\"Cuál será la población inicial? \\n\")),\n",
        "                     pm=float(input(\"Cuál es la probabilidad  de mutación?\")))\n",
        "ev"
      ],
      "metadata": {
        "id": "tKYc84JLoVFD"
      },
      "execution_count": null,
      "outputs": []
    },
    {
      "cell_type": "code",
      "source": [
        "ev=evolutivo2(n=300,dim=8,population=100, pm=0.4)"
      ],
      "metadata": {
        "id": "JkF0GyqUrn9X"
      },
      "execution_count": 55,
      "outputs": []
    },
    {
      "cell_type": "code",
      "source": [
        "plt.rcParams[\"figure.figsize\"] = (20,8)\n",
        "sns.set_theme(style=\"darkgrid\")\n",
        "sns.lineplot(data=ev[1],x=\"generacion\", y=\"promedio\", color=\"r\")\n",
        "sns.lineplot(data=ev[1],x=\"generacion\", y=\"stdv\", color=\"b\", legend=\"auto\")\n",
        "plt.title(\"Gráfico de convergencia de la función de utilidad conforme el numero de generaciones.\")"
      ],
      "metadata": {
        "colab": {
          "base_uri": "https://localhost:8080/",
          "height": 536
        },
        "id": "cW4QzOqIt5D7",
        "outputId": "50c2afc3-0d40-4c5b-efcc-37bcf7cd0648"
      },
      "execution_count": 56,
      "outputs": [
        {
          "output_type": "execute_result",
          "data": {
            "text/plain": [
              "Text(0.5, 1.0, 'Gráfico de convergencia de la función de utilidad conforme el numero de generaciones.')"
            ]
          },
          "metadata": {},
          "execution_count": 56
        },
        {
          "output_type": "display_data",
          "data": {
            "image/png": "[encoded data removed]",
            "text/plain": [
              "<Figure size 1440x576 with 1 Axes>"
            ]
          },
          "metadata": {}
        }
      ]
    },
    {
      "cell_type": "markdown",
      "source": [
        "#Visualización de los 15 tableros con mayor puntaje"
      ],
      "metadata": {
        "id": "wKegeUnooKnU"
      }
    },
    {
      "cell_type": "code",
      "source": [
        "imgs=[]\n",
        "for tablero in ev[0][\"tablero\"]:\n",
        "    imgs.append(reconstruir(tablero))"
      ],
      "metadata": {
        "id": "-LLqIlYavbx1"
      },
      "execution_count": 53,
      "outputs": []
    },
    {
      "cell_type": "code",
      "source": [
        "sns.set_theme()\n",
        "plt.rcParams[\"figure.figsize\"] = (20,8)\n",
        "rows = 3\n",
        "cols = 5\n",
        "axes=[]\n",
        "fig=plt.figure()\n",
        "for a in range(rows*cols):\n",
        "    b=imgs[a]\n",
        "    axes.append( fig.add_subplot(rows, cols, a+1) )\n",
        "    if a==10:\n",
        "        subplot_title=(\"Puntuación: \"+ str(ev[0][\"puntuacion\"][a]))\n",
        "    else:\n",
        "        subplot_title=(\"Puntuación: \"+ str(ev[0][\"puntuacion\"][a]))\n",
        "\n",
        "    axes[-1].set_title(subplot_title)  \n",
        "    plt.imshow(b, cmap=\"gray\")\n",
        "fig.tight_layout()    \n",
        "\n",
        "plt.show()"
      ],
      "metadata": {
        "colab": {
          "base_uri": "https://localhost:8080/",
          "height": 581
        },
        "id": "0XT-rX0vp7S6",
        "outputId": "1929a03e-3eb1-4cc7-c2eb-ffdab2eea30c"
      },
      "execution_count": 54,
      "outputs": [
        {
          "output_type": "display_data",
          "data": {
            "image/png": "[encoded data removed]",
            "text/plain": [
              "<Figure size 1440x576 with 15 Axes>"
            ]
          },
          "metadata": {}
        }
      ]
    },
    {
      "cell_type": "markdown",
      "source": [
        "# Algunas soluciones encontradas previamente"
      ],
      "metadata": {
        "id": "uxaU3ro_oQjN"
      }
    },
    {
      "cell_type": "code",
      "source": [
        "sns.set_theme()\n",
        "plt.imshow(reconstruir([4, 2, 0, 6, 1, 7, 5, 3]))\n",
        "plt.show()"
      ],
      "metadata": {
        "colab": {
          "base_uri": "https://localhost:8080/",
          "height": 485
        },
        "id": "cfzxs83qWbIp",
        "outputId": "566a4cf9-1aaf-43fa-80ac-793d65417f2c"
      },
      "execution_count": 29,
      "outputs": [
        {
          "output_type": "display_data",
          "data": {
            "image/png": "[encoded data removed]",
            "text/plain": [
              "<Figure size 1440x576 with 1 Axes>"
            ]
          },
          "metadata": {}
        }
      ]
    },
    {
      "cell_type": "code",
      "source": [
        ""
      ],
      "metadata": {
        "id": "FcEKROEgYUGy"
      },
      "execution_count": null,
      "outputs": []
    }
  ]
}